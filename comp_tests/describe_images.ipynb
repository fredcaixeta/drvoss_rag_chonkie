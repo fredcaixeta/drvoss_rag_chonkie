{
 "cells": [
  {
   "cell_type": "markdown",
   "id": "68e9476d",
   "metadata": {},
   "source": [
    "# Objetivo:\n",
    "\n",
    "Entregar a LLM as imagens para serem descritas, com o contexto do dia onde se encontra a imagem\n",
    "\n",
    "## Passo a Passo:\n",
    "\n",
    "## 1 - Separar todos os dias do texto\n",
    "## 2 - Encontrar os dias que contem imagens\n",
    "## 3 - Salvar na table all_days no DB o dicionario completo"
   ]
  },
  {
   "cell_type": "code",
   "execution_count": null,
   "id": "0f8efef3",
   "metadata": {},
   "outputs": [],
   "source": [
    "import os\n",
    "import sys\n",
    "import time\n",
    "\n",
    "import regex as re\n",
    "\n",
    "# Pega o diretório atual do notebook\n",
    "notebook_dir = os.getcwd() # ou os.path.dirname(__file__) se fosse um script .py\n",
    "\n",
    "# Assume que 'src' está no mesmo nível do notebook ou um nível acima\n",
    "# Ajuste '..' conforme a estrutura do seu projeto\n",
    "project_root = os.path.abspath(os.path.join(notebook_dir, '..')) # Volta um diretório\n",
    "\n",
    "# Se o 'src' estiver diretamente no mesmo nível do notebook:\n",
    "# project_root = notebook_dir\n",
    "\n",
    "# Adiciona o diretório raiz do projeto ao sys.path\n",
    "if project_root not in sys.path:\n",
    "    sys.path.insert(0, project_root)"
   ]
  },
  {
   "cell_type": "code",
   "execution_count": null,
   "id": "a82fad41",
   "metadata": {},
   "outputs": [],
   "source": [
    "from PIL import Image\n",
    "import io\n",
    "import base64\n",
    "\n",
    "from src.classe_gemini import GeminiApiClient\n",
    "from src.retrieve_img import retrieve_image_bytes_from_db\n",
    "from src.interact_database_sql import save_image_description_to_db, get_image_description_from_db, non_described_images, add_all_days_table\n",
    "\n",
    "import sqlite3"
   ]
  },
  {
   "cell_type": "markdown",
   "id": "0dafe5f4",
   "metadata": {},
   "source": [
    "### 1 - Separar todos os chunks do texto"
   ]
  },
  {
   "cell_type": "code",
   "execution_count": null,
   "id": "0eefaa4d",
   "metadata": {},
   "outputs": [],
   "source": [
    "# Regex para encontrar as linhas que começam com o padrão de data\n",
    "\n",
    "diary_text_path = r\"C:\\Users\\fuedj\\Documents\\Code\\RAG_Dr_Voss_v2\\drvossv2\\data\\dr_voss_md.md\"\n",
    "\n",
    "with open(diary_text_path, 'r', encoding='utf-8') as md:\n",
    "    diary_text = md.read()"
   ]
  },
  {
   "cell_type": "code",
   "execution_count": null,
   "id": "4d660ae6",
   "metadata": {},
   "outputs": [],
   "source": [
    "date_pattern = r\"(\\d{1,2})(?:st|nd|rd|th)? Day of ([A-Za-z]+) (18\\d{2}) - ([A-Za-z\\s]+)\"\n",
    "image_pattern = r\"!\\[\\]\\((_page_\\d+_Picture_\\d+\\.jpeg)\\)\"\n",
    "\n",
    "matches = [(match, match.start()) for match in re.finditer(date_pattern, diary_text)]\n",
    "\n",
    "all_days = []\n",
    "for i, (match, start_pos) in enumerate(matches):\n",
    "    # Extract date components and title\n",
    "    day, month, year, title = match.groups()\n",
    "    # Determine the end position (next match's start or end of text)\n",
    "    end_pos = matches[i + 1][1] if i + 1 < len(matches) else len(diary_text)\n",
    "    # Get the content including the date line\n",
    "    content = diary_text[start_pos:end_pos].strip()\n",
    "    \n",
    "    # Extrair nomes das imagens, se houver\n",
    "    image_names = [match.group(1) for match in re.finditer(image_pattern, content)]\n",
    "    # Usar o primeiro nome de imagem encontrado ou uma string vazia se não houver\n",
    "    image = image_names[0] if image_names else \"\"\n",
    "    \n",
    "    all_days.append({\n",
    "        'day': day,\n",
    "        'month': month,\n",
    "        'year': year,\n",
    "        'title': title.strip(),\n",
    "        'content_raw': content,\n",
    "        'content_without_image': content.replace(image, \"\").replace(\"[]()\",\"\"),\n",
    "        'content_image_described': \"\",\n",
    "        'image': image,\n",
    "        'image_description': \"\",\n",
    "        'chunks': []\n",
    "    })"
   ]
  },
  {
   "cell_type": "markdown",
   "id": "4a97fffe",
   "metadata": {},
   "source": [
    "### 2 - Encontrar os chunks que contém imagens"
   ]
  },
  {
   "cell_type": "code",
   "execution_count": null,
   "id": "9fd5895b",
   "metadata": {},
   "outputs": [],
   "source": [
    "# Filter chunks that contain the image 'jpeg' in their content\n",
    "image_chunks = [\n",
    "    chunk for chunk in all_days\n",
    "    if chunk['image'] != \"\"\n",
    "]"
   ]
  },
  {
   "cell_type": "markdown",
   "id": "0563861d",
   "metadata": {},
   "source": [
    "Encontrar as imagens do DB"
   ]
  },
  {
   "cell_type": "code",
   "execution_count": null,
   "id": "511a3c61",
   "metadata": {},
   "outputs": [],
   "source": [
    "id_image = non_described_images()\n",
    "n_d_images = [item[1] for item in id_image]"
   ]
  },
  {
   "cell_type": "code",
   "execution_count": null,
   "id": "969ea4e5",
   "metadata": {},
   "outputs": [],
   "source": [
    "image_chunks_to_process = []\n",
    "for image in n_d_images:\n",
    "    for chunk in image_chunks:\n",
    "        if image in chunk['image']:\n",
    "            image_chunks_to_process.append(chunk)"
   ]
  },
  {
   "cell_type": "code",
   "execution_count": null,
   "id": "a00c1436",
   "metadata": {},
   "outputs": [],
   "source": [
    "# --- Inicializa o cliente Gemini API ---\n",
    "# Certifique-se de que a variável de ambiente 'GOOGLE_API_KEY' está definida com sua chave de API\n",
    "try:\n",
    "    api_key = os.environ.get(\"GOOGLE_API_KEY\")\n",
    "    if not api_key:\n",
    "        raise ValueError(\"A variável de ambiente 'GOOGLE_API_KEY' não está definida.\")\n",
    "    \n",
    "    gemini_client = GeminiApiClient(api_key=api_key)\n",
    "except ValueError as e:\n",
    "    print(f\"Erro de configuração da API: {e}\")\n",
    "    exit() # Encerra o programa se a chave da API não estiver configurada\n"
   ]
  },
  {
   "cell_type": "code",
   "execution_count": null,
   "id": "a2c0b67f",
   "metadata": {},
   "outputs": [],
   "source": [
    "# --- Busca dos bytes da imagem no DB ---\n",
    "for _image in image_chunks_to_process:\n",
    "    image_name = _image.get(\"image\")\n",
    "    image_bytes = retrieve_image_bytes_from_db(filename=image_name)\n",
    "\n",
    "    if image_bytes:\n",
    "        # --- Codifica os bytes da imagem para Base64 ---\n",
    "        # A classe GeminiApiClient espera a imagem em formato base64\n",
    "        base64_image = base64.b64encode(image_bytes).decode('utf-8')\n",
    "\n",
    "        # --- Prepara os dados para a API Gemini (usando a estrutura esperada pela classe) ---\n",
    "        image_part = {\n",
    "            \"inlineData\": {\n",
    "                \"mimeType\": \"image/jpeg\", # Confirme que este é o tipo MIME correto da sua imagem\n",
    "                \"data\": base64_image\n",
    "            }\n",
    "        }\n",
    "        \n",
    "    # --- Chamada da API ---\n",
    "    model_name = 'gemini-1.5-pro' # Ou 'gemini-1.5-pro' se preferir um modelo mais potente\n",
    "    \n",
    "    chunk_description = _image.get('content_without_image')\n",
    "    \n",
    "    prompt = f\"\"\"\n",
    "    You are describing a image from a fantasy world in a travel log journey of Doctor Voss, a woman visiting the capital of Veridia.\n",
    "    Here is the context of the image: {chunk_description}.\n",
    "    \n",
    "    Describe **only** the image. Bring **only the description**. Be concise - 300 characters max.\n",
    "    If the doctor is on the image, describe her looks, skin color, appearence and others with great details.\n",
    "    \"\"\"\n",
    "    \n",
    "    prompt_parts = [\n",
    "        {\"text\": f\"{prompt}\"},\n",
    "        image_part\n",
    "    ]\n",
    "\n",
    "    print(f\"Enviando imagem do banco de dados para a API Gemini (modelo: {model_name})...\")\n",
    "\n",
    "    # Chama o método da classe GeminiApiClient\n",
    "    response_data = gemini_client.generate_multimodal_content(model_name, prompt_parts)\n",
    "\n",
    "    print(\"\\n--- Resposta Bruta da API Gemini ---\")\n",
    "    print(response_data) # Para ver a estrutura completa da resposta\n",
    "    print(\"-----------------------------------\")\n",
    "\n",
    "    # Extrai o texto da resposta usando o método da classe\n",
    "    time.sleep(3) # time for the response\n",
    "    generated_text = gemini_client.extract_text_from_response(response_data)\n",
    "\n",
    "    if generated_text:\n",
    "        print(\"\\n--- Texto Descritivo do Gemini ---\")\n",
    "        print(generated_text)\n",
    "        print(\"---------------------------------\")\n",
    "    else:\n",
    "        print(\"\\nNão foi possível extrair texto da resposta do Gemini.\")\n",
    "        \n",
    "    _ = save_image_description_to_db(filename=image_name, description=generated_text)\n"
   ]
  },
  {
   "cell_type": "markdown",
   "id": "e46dd8c5",
   "metadata": {},
   "source": [
    "## Salvar descrições do dicionário ao DB"
   ]
  },
  {
   "cell_type": "code",
   "execution_count": null,
   "id": "e87971ec",
   "metadata": {},
   "outputs": [],
   "source": [
    "for day in all_days:\n",
    "    if day['image'] != \"\":\n",
    "        day['image_description'] = get_image_description_from_db(filename=day['image'])"
   ]
  },
  {
   "cell_type": "code",
   "execution_count": null,
   "id": "2664800b",
   "metadata": {},
   "outputs": [],
   "source": [
    "for day in all_days:\n",
    "    if day['image'] != \"\":\n",
    "        day['content_image_described'] = day['content_raw'].replace(\"![](\"+day['image']+\")\", \"Picture - \" + day['image_description'])"
   ]
  },
  {
   "cell_type": "code",
   "execution_count": null,
   "id": "52c438d4",
   "metadata": {},
   "outputs": [],
   "source": [
    "add_all_days_table(days=all_days)"
   ]
  }
 ],
 "metadata": {
  "kernelspec": {
   "display_name": ".venv",
   "language": "python",
   "name": "python3"
  },
  "language_info": {
   "codemirror_mode": {
    "name": "ipython",
    "version": 3
   },
   "file_extension": ".py",
   "mimetype": "text/x-python",
   "name": "python",
   "nbconvert_exporter": "python",
   "pygments_lexer": "ipython3",
   "version": "3.11.12"
  }
 },
 "nbformat": 4,
 "nbformat_minor": 5
}

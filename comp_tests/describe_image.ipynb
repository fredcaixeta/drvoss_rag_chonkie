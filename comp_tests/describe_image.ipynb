{
 "cells": [
  {
   "cell_type": "markdown",
   "id": "558b4da4",
   "metadata": {},
   "source": [
    "# Objetivo:\n",
    "\n",
    "Entregar a LLM as imagens para serem descritas, com o contexto do chunk onde se encontra\n",
    "\n",
    "## Passo a Passo:\n",
    "\n",
    "## 1 - Separar todos os chunks do texto\n",
    "## 2 - Encontrar os chunks que contem imagens"
   ]
  },
  {
   "cell_type": "code",
   "execution_count": 10,
   "id": "ea64c63e",
   "metadata": {},
   "outputs": [],
   "source": [
    "import os\n",
    "import sys\n",
    "\n",
    "import regex as re\n",
    "\n",
    "# Pega o diretório atual do notebook\n",
    "notebook_dir = os.getcwd() # ou os.path.dirname(__file__) se fosse um script .py\n",
    "\n",
    "# Assume que 'src' está no mesmo nível do notebook ou um nível acima\n",
    "# Ajuste '..' conforme a estrutura do seu projeto\n",
    "project_root = os.path.abspath(os.path.join(notebook_dir, '..')) # Volta um diretório\n",
    "\n",
    "# Se o 'src' estiver diretamente no mesmo nível do notebook:\n",
    "# project_root = notebook_dir\n",
    "\n",
    "# Adiciona o diretório raiz do projeto ao sys.path\n",
    "if project_root not in sys.path:\n",
    "    sys.path.insert(0, project_root)"
   ]
  },
  {
   "cell_type": "code",
   "execution_count": 11,
   "id": "ab705524",
   "metadata": {},
   "outputs": [],
   "source": [
    "from PIL import Image\n",
    "import io\n",
    "import base64\n",
    "from src.classe_gemini import GeminiApiClient\n",
    "from src.retrieve_img import retrieve_image_bytes_from_db\n",
    "from src.interact_database_sql import save_image_description_to_db, get_image_description_from_db, non_described_images\n",
    "\n",
    "import sqlite3"
   ]
  },
  {
   "cell_type": "code",
   "execution_count": 12,
   "id": "6751f073",
   "metadata": {},
   "outputs": [],
   "source": [
    "# --- Busca dos bytes da imagem no DB ---\n",
    "image_name = \"_page_0_Picture_1.jpeg\"\n",
    "image_bytes = retrieve_image_bytes_from_db(filename=image_name)\n",
    "\n",
    "if image_bytes:\n",
    "    # --- Codifica os bytes da imagem para Base64 ---\n",
    "    # A classe GeminiApiClient espera a imagem em formato base64\n",
    "    base64_image = base64.b64encode(image_bytes).decode('utf-8')\n",
    "\n",
    "    # --- Prepara os dados para a API Gemini (usando a estrutura esperada pela classe) ---\n",
    "    image_part = {\n",
    "        \"inlineData\": {\n",
    "            \"mimeType\": \"image/jpeg\", # Confirme que este é o tipo MIME correto da sua imagem\n",
    "            \"data\": base64_image\n",
    "        }\n",
    "    }\n",
    "\n",
    "    # --- Inicializa o cliente Gemini API ---\n",
    "    # Certifique-se de que a variável de ambiente 'GOOGLE_API_KEY' está definida com sua chave de API\n",
    "    try:\n",
    "        api_key = os.environ.get(\"GOOGLE_API_KEY\")\n",
    "        if not api_key:\n",
    "            raise ValueError(\"A variável de ambiente 'GOOGLE_API_KEY' não está definida.\")\n",
    "        \n",
    "        gemini_client = GeminiApiClient(api_key=api_key)\n",
    "    except ValueError as e:\n",
    "        print(f\"Erro de configuração da API: {e}\")\n",
    "        exit() # Encerra o programa se a chave da API não estiver configurada\n"
   ]
  },
  {
   "cell_type": "markdown",
   "id": "eeb27e7d",
   "metadata": {},
   "source": [
    "### 1 - Separar todos os chunks do texto"
   ]
  },
  {
   "cell_type": "code",
   "execution_count": 13,
   "id": "091e27c6",
   "metadata": {},
   "outputs": [],
   "source": [
    "# Regex para encontrar as linhas que começam com o padrão de data\n",
    "\n",
    "diary_text_path = r\"C:\\Users\\fuedj\\Documents\\Code\\RAG_Dr_Voss_v2\\drvossv2\\data\\dr_voss_md.md\"\n",
    "\n",
    "with open(diary_text_path, 'r', encoding='utf-8') as md:\n",
    "    diary_text = md.read()"
   ]
  },
  {
   "cell_type": "code",
   "execution_count": 14,
   "id": "2b08b4f3",
   "metadata": {},
   "outputs": [],
   "source": [
    "date_pattern = r\"(\\d{1,2})(?:st|nd|rd|th)? Day of ([A-Za-z]+) (18\\d{2}) - ([A-Za-z\\s]+)\"\n",
    "\n",
    "matches = [(match, match.start()) for match in re.finditer(date_pattern, diary_text)]\n",
    "\n",
    "all_chunks = []\n",
    "for i, (match, start_pos) in enumerate(matches):\n",
    "    # Extract date components and title\n",
    "    day, month, year, title = match.groups()\n",
    "    # Determine the end position (next match's start or end of text)\n",
    "    end_pos = matches[i + 1][1] if i + 1 < len(matches) else len(diary_text)\n",
    "    # Get the content including the date line\n",
    "    content = diary_text[start_pos:end_pos].strip()\n",
    "    all_chunks.append({\n",
    "        'day': day,\n",
    "        'month': month,\n",
    "        'year': year,\n",
    "        'title': title.strip(),\n",
    "        'content': content\n",
    "    })"
   ]
  },
  {
   "cell_type": "code",
   "execution_count": 15,
   "id": "8409be41",
   "metadata": {},
   "outputs": [
    {
     "data": {
      "text/plain": [
       "123"
      ]
     },
     "execution_count": 15,
     "metadata": {},
     "output_type": "execute_result"
    }
   ],
   "source": [
    "len(all_chunks)"
   ]
  },
  {
   "cell_type": "code",
   "execution_count": 16,
   "id": "857eb847",
   "metadata": {},
   "outputs": [
    {
     "data": {
      "text/plain": [
       "[{'day': '1',\n",
       "  'month': 'Frostfall',\n",
       "  'year': '1855',\n",
       "  'title': 'Arrival in the Capital of Veridia',\n",
       "  'content': \"1st Day of Frostfall 1855 - Arrival in the Capital of Veridia\\n\\n![](_page_0_Picture_1.jpeg)\\n\\nToday marks my arrival in the capital city of Veridia, a place teeming with vibrant cultural heritage and an unyielding commitment to progress. Under Queen Isolde's famed patronage, the arts flourished here. Walking through the grand avenues, I was captivated by the array of sculptures and paintings, bearing testament to her legacy. My first stop was the regal Assembly House, where the Assembly of Voices, Veridia's main legislative body, convenes. The debate inside, I was told, revolved around initiatives to fulfill Veridia's ambitious goal of using 80% renewable energy by 2050. This pervasive focus on sustainability is palpable, infusing the city's very lifeblood.\\n\\nAs evening crept in, I joined locals indulging in Zelphar stew, a traditional Veridian dish that warms the soul as much as it pleases the palate. Each spoonful was a blend of flavors, rich and comforting after my long journey.\\n\\n####\"},\n",
       " {'day': '8',\n",
       "  'month': 'Frostfall',\n",
       "  'year': '1855',\n",
       "  'title': 'Exploring the Takron Valley\\n\\nI',\n",
       "  'content': \"8th Day of Frostfall 1855 - Exploring the Takron Valley\\n\\nI've ventured into the famed Takron Valley today, laden with a palpable sense of discovery. Here lies the secret hoard of the rare Bluefire Opal, a gemstone that glimmers like the dawn breaking over the mountains. Within the valley, miners worked tirelessly, whispering of its unique beauty and unparalleled worth.\\n\\nIn the evening, I was fortunate enough to witness the excitement of local traditions. News reached us of Eldoria's celebrated javelin throwing contest—an iconic event during their autumn festival. Though I couldn't be there in person to observe it, tales of the athletes' skill and the crowd's enthusiasm echo through the room as the storyteller captivates us by the fireside.\\n\\nAs I retire for the night, the distant lilt of Eldoria's Celestium music hums gently in my mind, reminding me of the cultural tapestry that links these worlds despite their physical distances.\\n\\n##\"},\n",
       " {'day': '10',\n",
       "  'month': 'Frostfall',\n",
       "  'year': '1855',\n",
       "  'title': 'The Valley',\n",
       "  'content': \"10th Day of Frostfall 1855 - The Valley's Whispers\\n\\n![](_page_2_Picture_1.jpeg)\\n\\nThis morning, I awoke to a pale mist stretching its fingers gently across Takron Valley. The air hung heavy with moisture, a tonic far different from the musty peat scents I recall from Eldoria's festival gatherings. As the morning wore on, I wandered further into the valley, where the whisper of pickaxes against stone formed an oddly rhythmic concert with the birds' morning calls.\\n\\nThe miners here, with their weathered hands and faces etched by years of labor, are surprisingly warm-hearted. One elder, a grizzled man with a twinkle in his eye named Bram, shared tales of the valley's haunting echoes at twilight. They say that if one stands still beneath the looming Cragstone Arch at dusk, you might hear the valley sing the ancient melodies of the land. Many claim it's the spirits of past miners offering both protection and warnings to those who disturb their eternal resting grounds. Though I fancy myself more practical, these stories stir something within me—a yearning or perhaps a belief in the unseen threads that weave through our world.\\n\\nLast night, over sour-brewed draughts of local ale, we huddled close and spoke of Elderwood's javelin contest once more. A newcomer brought fresh tales of Olwen the Fleet, this year's champion, whose prowess in the competition was said to rival that of the legendary Heron of Eldoria. As thrilling as those stories were, I found myself captivated by the music after, played on simple hand-carved flutes. It's a bittersweet reminder of the joyous festival tunes of home—a comfort, even as I wander further from the familiar.\\n\\n#\"}]"
      ]
     },
     "execution_count": 16,
     "metadata": {},
     "output_type": "execute_result"
    }
   ],
   "source": [
    "all_chunks[:3]"
   ]
  },
  {
   "cell_type": "markdown",
   "id": "79334b9b",
   "metadata": {},
   "source": [
    "### 2 - Encontrar os chunks que contém imagens"
   ]
  },
  {
   "cell_type": "code",
   "execution_count": 17,
   "id": "02aff31e",
   "metadata": {},
   "outputs": [],
   "source": [
    "# Filter chunks that contain the image 'jpeg' in their content\n",
    "image_chunks = [\n",
    "    chunk for chunk in all_chunks\n",
    "    if \".jpeg)\" in chunk['content']\n",
    "]"
   ]
  },
  {
   "cell_type": "code",
   "execution_count": 18,
   "id": "a2b8f243",
   "metadata": {},
   "outputs": [
    {
     "data": {
      "text/plain": [
       "[{'day': '1',\n",
       "  'month': 'Frostfall',\n",
       "  'year': '1855',\n",
       "  'title': 'Arrival in the Capital of Veridia',\n",
       "  'content': \"1st Day of Frostfall 1855 - Arrival in the Capital of Veridia\\n\\n![](_page_0_Picture_1.jpeg)\\n\\nToday marks my arrival in the capital city of Veridia, a place teeming with vibrant cultural heritage and an unyielding commitment to progress. Under Queen Isolde's famed patronage, the arts flourished here. Walking through the grand avenues, I was captivated by the array of sculptures and paintings, bearing testament to her legacy. My first stop was the regal Assembly House, where the Assembly of Voices, Veridia's main legislative body, convenes. The debate inside, I was told, revolved around initiatives to fulfill Veridia's ambitious goal of using 80% renewable energy by 2050. This pervasive focus on sustainability is palpable, infusing the city's very lifeblood.\\n\\nAs evening crept in, I joined locals indulging in Zelphar stew, a traditional Veridian dish that warms the soul as much as it pleases the palate. Each spoonful was a blend of flavors, rich and comforting after my long journey.\\n\\n####\"},\n",
       " {'day': '10',\n",
       "  'month': 'Frostfall',\n",
       "  'year': '1855',\n",
       "  'title': 'The Valley',\n",
       "  'content': \"10th Day of Frostfall 1855 - The Valley's Whispers\\n\\n![](_page_2_Picture_1.jpeg)\\n\\nThis morning, I awoke to a pale mist stretching its fingers gently across Takron Valley. The air hung heavy with moisture, a tonic far different from the musty peat scents I recall from Eldoria's festival gatherings. As the morning wore on, I wandered further into the valley, where the whisper of pickaxes against stone formed an oddly rhythmic concert with the birds' morning calls.\\n\\nThe miners here, with their weathered hands and faces etched by years of labor, are surprisingly warm-hearted. One elder, a grizzled man with a twinkle in his eye named Bram, shared tales of the valley's haunting echoes at twilight. They say that if one stands still beneath the looming Cragstone Arch at dusk, you might hear the valley sing the ancient melodies of the land. Many claim it's the spirits of past miners offering both protection and warnings to those who disturb their eternal resting grounds. Though I fancy myself more practical, these stories stir something within me—a yearning or perhaps a belief in the unseen threads that weave through our world.\\n\\nLast night, over sour-brewed draughts of local ale, we huddled close and spoke of Elderwood's javelin contest once more. A newcomer brought fresh tales of Olwen the Fleet, this year's champion, whose prowess in the competition was said to rival that of the legendary Heron of Eldoria. As thrilling as those stories were, I found myself captivated by the music after, played on simple hand-carved flutes. It's a bittersweet reminder of the joyous festival tunes of home—a comfort, even as I wander further from the familiar.\\n\\n#\"},\n",
       " {'day': '12',\n",
       "  'month': 'Frostfall',\n",
       "  'year': '1855',\n",
       "  'title': 'Beneath Takron',\n",
       "  'content': \"12th Day of Frostfall 1855 - Beneath Takron's Veil\\n\\n![](_page_4_Picture_1.jpeg)\\n\\nI remain in the Takron Valley, drawn perhaps too deeply into its somber beauty, yet I feel there's much to learn from its hush and its hubbub. The miners, for all their rugged exteriors, have a rich culture I've begun to admire. Today, I was shown the intricate weaving of talismans from sacred wildgrass, meant to ward off the valley's more mischievous spirits. The care with which they are crafted speaks volumes of their unspoken fears and deep-seated respect for the unknown.\\n\\nWith each day, my proficiency in the Bluefire dialect grows, a soft-spoken tongue as delicate as the gems it describes. Learning their chants and work-songs, I sense a connection unfurling—a unity between outsider and native, one beat and word at a time.\\n\\nThis evening, as the sun generously painted the sky in hues of orange and violet, we sat around Bram's hearth. He divulged past grievances—of a time when outsiders took too freely from the valley, sparking a conflict that left indelible scars. It humbled me, reminding always to tread lightly, to honor this land that is not mine.\\n\\nAnd though nights encroach swiftly here, I find solace knowing as the wind whistles through the trees, it carries with it stories and songs—connecting even those separated by leagues and differences, binding us all in the same breath of renewal and remembrance.\\n\\n####\"}]"
      ]
     },
     "execution_count": 18,
     "metadata": {},
     "output_type": "execute_result"
    }
   ],
   "source": [
    "image_chunks[:3]"
   ]
  },
  {
   "cell_type": "code",
   "execution_count": 23,
   "id": "5c29b5ba",
   "metadata": {},
   "outputs": [
    {
     "name": "stdout",
     "output_type": "stream",
     "text": [
      "Enviando imagem do banco de dados para a API Gemini (modelo: gemini-1.5-pro)...\n",
      "\n",
      "--- Resposta Bruta da API Gemini ---\n",
      "{'candidates': [{'content': {'parts': [{'text': 'A bustling street market stretches before the grand Assembly House, its pastel facade and colonnaded balconies overlooking the scene. Colorful awnings shade vendors and shoppers, carts laden with produce lining the sunlit avenue.\\n'}], 'role': 'model'}, 'finishReason': 'STOP', 'avgLogprobs': -0.35646168778582316}], 'usageMetadata': {'promptTokenCount': 540, 'candidatesTokenCount': 41, 'totalTokenCount': 581, 'promptTokensDetails': [{'modality': 'IMAGE', 'tokenCount': 258}, {'modality': 'TEXT', 'tokenCount': 282}], 'candidatesTokensDetails': [{'modality': 'TEXT', 'tokenCount': 41}]}, 'modelVersion': 'gemini-1.5-pro-002', 'responseId': 'J1dUaIvZLq6k7dcPjazPkQ8'}\n",
      "-----------------------------------\n",
      "\n",
      "--- Texto Descritivo do Gemini ---\n",
      "A bustling street market stretches before the grand Assembly House, its pastel facade and colonnaded balconies overlooking the scene. Colorful awnings shade vendors and shoppers, carts laden with produce lining the sunlit avenue.\n",
      "\n",
      "---------------------------------\n"
     ]
    }
   ],
   "source": [
    "# --- Chamada da API ---\n",
    "model_name = 'gemini-1.5-pro' # Ou 'gemini-1.5-pro' se preferir um modelo mais potente\n",
    "\n",
    "chunk_description = \"1st Day of Frostfall 1855 - Arrival in the Capital of Veridia\\n\\n!\\n\\nToday marks my arrival in the capital city of Veridia, a place teeming with vibrant cultural heritage and an unyielding commitment to progress. Under Queen Isolde's famed patronage, the arts flourished here. Walking through the grand avenues, I was captivated by the array of sculptures and paintings, bearing testament to her legacy. My first stop was the regal Assembly House, where the Assembly of Voices, Veridia's main legislative body, convenes. The debate inside, I was told, revolved around initiatives to fulfill Veridia's ambitious goal of using 80% renewable energy by 2050. This pervasive focus on sustainability is palpable, infusing the city's very lifeblood.\\n\\nAs evening crept in, I joined locals indulging in Zelphar stew, a traditional Veridian dish that warms the soul as much as it pleases the palate. Each spoonful was a blend of flavors, rich and comforting after my long journey.\\n\\n####\"\n",
    "\n",
    "prompt = f\"\"\"\n",
    "    \n",
    "    You are describing a image from a fantasy world in a travel log journey of Doctor Voss, a woman visiting the capital of Veridia.\n",
    "    Here is the context of the image: {chunk_description}.\n",
    "    \n",
    "    Describe **only** the image. Bring **only the description**. Be concise - 300 characters max.\n",
    "    \n",
    "    \"\"\"\n",
    "    \n",
    "prompt_parts = [\n",
    "    {\"text\": f\"{prompt}\"},\n",
    "    image_part\n",
    "]\n",
    "\n",
    "print(f\"Enviando imagem do banco de dados para a API Gemini (modelo: {model_name})...\")\n",
    "\n",
    "# Chama o método da classe GeminiApiClient\n",
    "response_data = gemini_client.generate_multimodal_content(model_name, prompt_parts)\n",
    "\n",
    "print(\"\\n--- Resposta Bruta da API Gemini ---\")\n",
    "print(response_data) # Para ver a estrutura completa da resposta\n",
    "print(\"-----------------------------------\")\n",
    "\n",
    "# Extrai o texto da resposta usando o método da classe\n",
    "generated_text = gemini_client.extract_text_from_response(response_data)\n",
    "\n",
    "if generated_text:\n",
    "    print(\"\\n--- Texto Descritivo do Gemini ---\")\n",
    "    print(generated_text)\n",
    "    print(\"---------------------------------\")\n",
    "else:\n",
    "    print(\"\\nNão foi possível extrair texto da resposta do Gemini.\")\n",
    "\n"
   ]
  },
  {
   "cell_type": "code",
   "execution_count": 24,
   "id": "0e323942",
   "metadata": {},
   "outputs": [
    {
     "name": "stdout",
     "output_type": "stream",
     "text": [
      "Coluna 'descricao_gemini' já existe na tabela 'imagens' em C:\\Users\\fuedj\\Documents\\Code\\RAG_Dr_Voss_v2\\drvossv2\\data\\imagens.db.\n",
      "Sucesso: Descrição da imagem para '_page_0_Picture_1.jpeg' salva no DB.\n"
     ]
    }
   ],
   "source": [
    "o = save_image_description_to_db(filename=image_name, description=generated_text)"
   ]
  },
  {
   "cell_type": "code",
   "execution_count": 25,
   "id": "05384228",
   "metadata": {},
   "outputs": [
    {
     "name": "stdout",
     "output_type": "stream",
     "text": [
      "\n",
      "--- Descrição recuperada por filename ('_page_0_Picture_1.jpeg') ---\n",
      "A bustling street market stretches before the grand Assembly House, its pastel facade and colonnaded balconies overlooking the scene. Colorful awnings shade vendors and shoppers, carts laden with produce lining the sunlit avenue.\n",
      "\n",
      "-------------------------------------------------\n"
     ]
    }
   ],
   "source": [
    "# Exemplo 1: Consultar por nome de arquivo\n",
    "filename_to_query = image_name\n",
    "description_by_filename = get_image_description_from_db(filename=filename_to_query)\n",
    "\n",
    "if description_by_filename:\n",
    "    print(f\"\\n--- Descrição recuperada por filename ('{filename_to_query}') ---\")\n",
    "    print(description_by_filename)\n",
    "    print(\"-------------------------------------------------\")\n",
    "else:\n",
    "    print(f\"\\nNenhuma descrição encontrada para '{filename_to_query}' por nome de arquivo.\")"
   ]
  }
 ],
 "metadata": {
  "kernelspec": {
   "display_name": ".venv",
   "language": "python",
   "name": "python3"
  },
  "language_info": {
   "codemirror_mode": {
    "name": "ipython",
    "version": 3
   },
   "file_extension": ".py",
   "mimetype": "text/x-python",
   "name": "python",
   "nbconvert_exporter": "python",
   "pygments_lexer": "ipython3",
   "version": "3.11.12"
  }
 },
 "nbformat": 4,
 "nbformat_minor": 5
}

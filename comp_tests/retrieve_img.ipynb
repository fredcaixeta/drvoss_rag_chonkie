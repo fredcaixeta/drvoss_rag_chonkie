{
 "cells": [
  {
   "cell_type": "code",
   "execution_count": 1,
   "id": "bf7513d8",
   "metadata": {},
   "outputs": [],
   "source": [
    "import sqlite3\n",
    "import io\n",
    "from PIL import Image"
   ]
  },
  {
   "cell_type": "code",
   "execution_count": 3,
   "id": "6a269b3e",
   "metadata": {},
   "outputs": [],
   "source": [
    "def retrieve_image_from_db(image_id: int = None, filename: str = None, db_name=r\"C:\\Users\\fuedj\\Documents\\Code\\RAG_Dr_Voss_v2\\drvossv2\\data\\imagens.db\") -> Image.Image | None:\n",
    "    conn = sqlite3.connect(db_name)\n",
    "    cursor = conn.cursor()\n",
    "    if image_id:\n",
    "        cursor.execute(\"SELECT dados_imagem FROM imagens WHERE id = ?\", (image_id,))\n",
    "    elif filename:\n",
    "        cursor.execute(\"SELECT dados_imagem FROM imagens WHERE nome_arquivo = ?\", (filename,))\n",
    "    else:\n",
    "        print(\"Forneça um ID ou um nome de arquivo para buscar a imagem.\")\n",
    "        return None\n",
    "\n",
    "    result = cursor.fetchone()\n",
    "    conn.close()\n",
    "\n",
    "    if result:\n",
    "        image_bytes = result[0]\n",
    "        return Image.open(io.BytesIO(image_bytes))\n",
    "    else:\n",
    "        return None"
   ]
  },
  {
   "cell_type": "code",
   "execution_count": 10,
   "id": "a15e8727",
   "metadata": {},
   "outputs": [],
   "source": [
    "def retrieve_image_bytes_from_db(image_id: int = None, filename: str = None, db_name=r\"C:\\Users\\fuedj\\Documents\\Code\\RAG_Dr_Voss_v2\\drvossv2\\data\\imagens.db\") -> bytes | None:\n",
    "    \"\"\"Busca os bytes brutos de uma imagem do banco de dados.\"\"\"\n",
    "    conn = sqlite3.connect(db_name)\n",
    "    cursor = conn.cursor()\n",
    "    if image_id:\n",
    "        cursor.execute(\"SELECT dados_imagem FROM imagens WHERE id = ?\", (image_id,))\n",
    "    elif filename:\n",
    "        cursor.execute(\"SELECT dados_imagem FROM imagens WHERE nome_arquivo = ?\", (filename,))\n",
    "    else:\n",
    "        print(\"Forneça um ID ou um nome de arquivo para buscar a imagem.\")\n",
    "        conn.close()\n",
    "        return None\n",
    "\n",
    "    result = cursor.fetchone()\n",
    "    conn.close()\n",
    "\n",
    "    if result:\n",
    "        return result[0]  # Retorna diretamente os bytes\n",
    "    else:\n",
    "        return None"
   ]
  },
  {
   "cell_type": "code",
   "execution_count": 11,
   "id": "aa5d7b43",
   "metadata": {},
   "outputs": [
    {
     "name": "stdout",
     "output_type": "stream",
     "text": [
      "byte recuperada!\n"
     ]
    }
   ],
   "source": [
    "byte_recuperado = retrieve_image_bytes_from_db(filename='_page_0_Picture_1.jpeg')\n",
    "if byte_recuperado:\n",
    "    print(\"byte recuperada!\")\n",
    "    pass\n",
    "    #imagem_recuperada.show() # Para exibir a imagem"
   ]
  },
  {
   "cell_type": "code",
   "execution_count": 7,
   "id": "eea76a40",
   "metadata": {},
   "outputs": [
    {
     "name": "stdout",
     "output_type": "stream",
     "text": [
      "imagem recuperada!\n"
     ]
    }
   ],
   "source": [
    "# Exemplo:\n",
    "imagem_recuperada = retrieve_image_from_db(filename='_page_0_Picture_1.jpeg')\n",
    "if imagem_recuperada:\n",
    "    print(\"imagem recuperada!\")\n",
    "    pass\n",
    "    #imagem_recuperada.show() # Para exibir a imagem"
   ]
  },
  {
   "cell_type": "code",
   "execution_count": 5,
   "id": "08b6a379",
   "metadata": {},
   "outputs": [
    {
     "data": {
      "text/plain": [
       "PIL.JpegImagePlugin.JpegImageFile"
      ]
     },
     "execution_count": 5,
     "metadata": {},
     "output_type": "execute_result"
    }
   ],
   "source": [
    "type(imagem_recuperada)"
   ]
  },
  {
   "cell_type": "code",
   "execution_count": 6,
   "id": "66f19c39",
   "metadata": {},
   "outputs": [
    {
     "name": "stdout",
     "output_type": "stream",
     "text": [
      "Simulando o carregamento de uma imagem para um objeto PIL...\n",
      "Tipo do objeto da imagem: <class 'PIL.Image.Image'>\n"
     ]
    }
   ],
   "source": [
    "# --- 1. Ponto de Partida: Sua Imagem PIL ---\n",
    "# Assuma que 'sua_imagem_pil' é o seu objeto de imagem que você já carregou ou criou.\n",
    "# Para este exemplo ser executável, vamos criar uma imagem de exemplo aqui.\n",
    "print(\"Simulando o carregamento de uma imagem para um objeto PIL...\")\n",
    "sua_imagem_pil = Image.new('RGB', (200, 150), color = 'blue')\n",
    "# Em um caso real, você poderia ter carregado de um arquivo:\n",
    "# sua_imagem_pil = Image.open(\"caminho/para/imagem.jpg\")\n",
    "\n",
    "print(f\"Tipo do objeto da imagem: {type(sua_imagem_pil)}\")"
   ]
  }
 ],
 "metadata": {
  "kernelspec": {
   "display_name": ".venv",
   "language": "python",
   "name": "python3"
  },
  "language_info": {
   "codemirror_mode": {
    "name": "ipython",
    "version": 3
   },
   "file_extension": ".py",
   "mimetype": "text/x-python",
   "name": "python",
   "nbconvert_exporter": "python",
   "pygments_lexer": "ipython3",
   "version": "3.11.12"
  }
 },
 "nbformat": 4,
 "nbformat_minor": 5
}

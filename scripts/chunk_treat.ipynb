{
 "cells": [
  {
   "cell_type": "markdown",
   "id": "ad7045c7",
   "metadata": {},
   "source": [
    "# Chonkie"
   ]
  },
  {
   "cell_type": "code",
   "execution_count": 2,
   "id": "8710ed3a",
   "metadata": {},
   "outputs": [],
   "source": [
    "import os\n",
    "import sys\n",
    "import time\n",
    "\n",
    "import numpy as np\n",
    "import json\n",
    "import regex as re\n",
    "\n",
    "# Pega o diretório atual do notebook\n",
    "notebook_dir = os.getcwd() # ou os.path.dirname(__file__) se fosse um script .py\n",
    "\n",
    "# Assume que 'src' está no mesmo nível do notebook ou um nível acima\n",
    "# Ajuste '..' conforme a estrutura do seu projeto\n",
    "project_root = os.path.abspath(os.path.join(notebook_dir, '..')) # Volta um diretório\n",
    "\n",
    "# Se o 'src' estiver diretamente no mesmo nível do notebook:\n",
    "# project_root = notebook_dir\n",
    "\n",
    "# Adiciona o diretório raiz do projeto ao sys.path\n",
    "if project_root not in sys.path:\n",
    "    sys.path.insert(0, project_root)"
   ]
  },
  {
   "cell_type": "code",
   "execution_count": 3,
   "id": "93d36a12",
   "metadata": {},
   "outputs": [],
   "source": [
    "from src.interact_database_sql import get_all_days_content\n",
    "from src.voyage_emb import get_voyage_embeddings"
   ]
  },
  {
   "cell_type": "code",
   "execution_count": 4,
   "id": "b05d40bb",
   "metadata": {},
   "outputs": [],
   "source": [
    "# 1. Recuperar apenas content_without_image e content_image_described para todos os registros\n",
    "results = get_all_days_content(fields=['content_without_image', 'content_image_described'])"
   ]
  },
  {
   "cell_type": "code",
   "execution_count": 5,
   "id": "e6bbf1b3",
   "metadata": {},
   "outputs": [],
   "source": [
    "content = [result['content_image_described'] if result['content_image_described'] != \"\" else result['content_without_image'] for result in results]"
   ]
  },
  {
   "cell_type": "code",
   "execution_count": 6,
   "id": "fdcf61ef",
   "metadata": {},
   "outputs": [
    {
     "data": {
      "text/plain": [
       "123"
      ]
     },
     "execution_count": 6,
     "metadata": {},
     "output_type": "execute_result"
    }
   ],
   "source": [
    "len(content)"
   ]
  },
  {
   "cell_type": "code",
   "execution_count": 7,
   "id": "53edd1e5",
   "metadata": {},
   "outputs": [],
   "source": [
    "# First import the chunker you want from Chonkie\n",
    "from chonkie import SemanticChunker, RecursiveChunker\n",
    "\n",
    "# Initialize the chunker\n",
    "chunker = RecursiveChunker()"
   ]
  },
  {
   "cell_type": "code",
   "execution_count": 8,
   "id": "57b53de1",
   "metadata": {},
   "outputs": [],
   "source": [
    "chunks = []\n",
    "for day in content:\n",
    "    # Chunk some text\n",
    "    _chunks = chunker(day)\n",
    "\n",
    "    # Access chunks\n",
    "    for chunk in _chunks:\n",
    "        #print(f\"Chunk: {chunk.text}\")\n",
    "        chunks.append(chunk.text)"
   ]
  },
  {
   "cell_type": "code",
   "execution_count": 9,
   "id": "85e0f151",
   "metadata": {},
   "outputs": [],
   "source": [
    "old_size = 0\n",
    "for chunk in chunks:\n",
    "    new_size = len(chunk)\n",
    "    if new_size > old_size:\n",
    "        max_size = new_size\n",
    "    else:\n",
    "        max_size = old_size"
   ]
  },
  {
   "cell_type": "code",
   "execution_count": 10,
   "id": "7456bbac",
   "metadata": {},
   "outputs": [
    {
     "data": {
      "text/plain": [
       "1730"
      ]
     },
     "execution_count": 10,
     "metadata": {},
     "output_type": "execute_result"
    }
   ],
   "source": [
    "max_size"
   ]
  },
  {
   "cell_type": "code",
   "execution_count": 11,
   "id": "ae38df75",
   "metadata": {},
   "outputs": [],
   "source": [
    "from langchain.retrievers import ParentDocumentRetriever\n",
    "from langchain.storage import InMemoryStore\n",
    "from langchain_chroma import Chroma\n",
    "from langchain_community.document_loaders import TextLoader\n",
    "from langchain_text_splitters import RecursiveCharacterTextSplitter\n",
    "\n",
    "from model2vec import StaticModel\n",
    "\n",
    "model = StaticModel.from_pretrained(\"minishlab/potion-base-32M\")\n",
    "\n"
   ]
  },
  {
   "cell_type": "code",
   "execution_count": 12,
   "id": "aca6a1a6",
   "metadata": {},
   "outputs": [],
   "source": [
    "chunks_emb: list[dict] = [{'chunk': chunk, 'embedding': ''} for chunk in chunks]"
   ]
  },
  {
   "cell_type": "code",
   "execution_count": 13,
   "id": "59cfb2c5",
   "metadata": {},
   "outputs": [
    {
     "data": {
      "text/plain": [
       "[{'chunk': \"1st Day of Frostfall 1855 - Arrival in the Capital of Veridia\\n\\nPicture - A bustling street market stretches before the grand Assembly House, its pastel facade and colonnaded balconies overlooking the scene. Colorful awnings shade vendors and shoppers, carts laden with produce lining the sunlit avenue.\\n\\n\\nToday marks my arrival in the capital city of Veridia, a place teeming with vibrant cultural heritage and an unyielding commitment to progress. Under Queen Isolde's famed patronage, the arts flourished here. Walking through the grand avenues, I was captivated by the array of sculptures and paintings, bearing testament to her legacy. My first stop was the regal Assembly House, where the Assembly of Voices, Veridia's main legislative body, convenes. The debate inside, I was told, revolved around initiatives to fulfill Veridia's ambitious goal of using 80% renewable energy by 2050. This pervasive focus on sustainability is palpable, infusing the city's very lifeblood.\\n\\nAs evening crept in, I joined locals indulging in Zelphar stew, a traditional Veridian dish that warms the soul as much as it pleases the palate. Each spoonful was a blend of flavors, rich and comforting after my long journey.\\n\\n####\",\n",
       "  'embedding': ''},\n",
       " {'chunk': \"8th Day of Frostfall 1855 - Exploring the Takron Valley\\n\\nI've ventured into the famed Takron Valley today, laden with a palpable sense of discovery. Here lies the secret hoard of the rare Bluefire Opal, a gemstone that glimmers like the dawn breaking over the mountains. Within the valley, miners worked tirelessly, whispering of its unique beauty and unparalleled worth.\\n\\nIn the evening, I was fortunate enough to witness the excitement of local traditions. News reached us of Eldoria's celebrated javelin throwing contest—an iconic event during their autumn festival. Though I couldn't be there in person to observe it, tales of the athletes' skill and the crowd's enthusiasm echo through the room as the storyteller captivates us by the fireside.\\n\\nAs I retire for the night, the distant lilt of Eldoria's Celestium music hums gently in my mind, reminding me of the cultural tapestry that links these worlds despite their physical distances.\\n\\n##\",\n",
       "  'embedding': ''},\n",
       " {'chunk': \"10th Day of Frostfall 1855 - The Valley's Whispers\\n\\nPicture - A colossal stone arch dominates the valley, framing distant misty mountains. Beneath it nestle stone cottages, their roofs slate-grey and terracotta.  A dirt path meanders through a vibrant green field, two figures barely visible beneath a leafy tree. Soft sunlight washes over the scene.\\n\\n\\nThis morning, I awoke to a pale mist stretching its fingers gently across Takron Valley. The air hung heavy with moisture, a tonic far different from the musty peat scents I recall from Eldoria's festival gatherings. As the morning wore on, I wandered further into the valley, where the whisper of pickaxes against stone formed an oddly rhythmic concert with the birds' morning calls.\\n\\nThe miners here, with their weathered hands and faces etched by years of labor, are surprisingly warm-hearted. One elder, a grizzled man with a twinkle in his eye named Bram, shared tales of the valley's haunting echoes at twilight. They say that if one stands still beneath the looming Cragstone Arch at dusk, you might hear the valley sing the ancient melodies of the land. Many claim it's the spirits of past miners offering both protection and warnings to those who disturb their eternal resting grounds. Though I fancy myself more practical, these stories stir something within me—a yearning or perhaps a belief in the unseen threads that weave through our world.\\n\\nLast night, over sour-brewed draughts of local ale, we huddled close and spoke of Elderwood's javelin contest once more. A newcomer brought fresh tales of Olwen the Fleet, this year's champion, whose prowess in the competition was said to rival that of the legendary Heron of Eldoria. As thrilling as those stories were, I found myself captivated by the music after, played on simple hand-carved flutes. It's a bittersweet reminder of the joyous festival tunes of home—a comfort, even as I wander further from the familiar.\\n\\n#\",\n",
       "  'embedding': ''}]"
      ]
     },
     "execution_count": 13,
     "metadata": {},
     "output_type": "execute_result"
    }
   ],
   "source": [
    "chunks_emb[:3]"
   ]
  },
  {
   "cell_type": "code",
   "execution_count": null,
   "id": "52d2841c",
   "metadata": {},
   "outputs": [],
   "source": [
    "# # Make embeddings\n",
    "for chunk in chunks_emb:\n",
    "    # Get the chunk text to encode\n",
    "    chunk_text = chunk['chunk']\n",
    "    # Generate the embedding for this specific chunk\n",
    "    # Note: model.encode usually takes a list of strings, even for a single string,\n",
    "    # and returns a list of embeddings. So, we get the first (and only) embedding.\n",
    "    \n",
    "    # Model2Vec\n",
    "    # embedding = model.encode(chunk_text)\n",
    "    \n",
    "    # Voyage\n",
    "    embedding = get_voyage_embeddings(chunk_text)\n",
    "    # Assign the generated embedding to the 'embedding' key\n",
    "    chunk['embedding'] = embedding\n",
    "    \n",
    "\n",
    "# # Make sequences of token embeddings\n",
    "# token_embeddings = model.encode_as_sequence([\"It's dangerous to go alone!\", \"It's a secret to everybody.\"])"
   ]
  },
  {
   "cell_type": "code",
   "execution_count": 15,
   "id": "38d9557e",
   "metadata": {},
   "outputs": [],
   "source": [
    "def calculate_cosine_similarity(vec1: np.ndarray, vec2: np.ndarray) -> float:\n",
    "    \"\"\"Calcula a similaridade de cosseno entre dois vetores.\"\"\"\n",
    "    dot_product = np.dot(vec1, vec2)\n",
    "    norm_vec1 = np.linalg.norm(vec1)\n",
    "    norm_vec2 = np.linalg.norm(vec2)\n",
    "    \n",
    "    if norm_vec1 == 0 or norm_vec2 == 0:\n",
    "        return 0.0 # Evita divisão por zero\n",
    "        \n",
    "    return dot_product / (norm_vec1 * norm_vec2)\n",
    "\n",
    "def semantic_search(query: str, indexed_chunks: list[dict], model) -> list[dict]:\n",
    "    \"\"\"\n",
    "    Realiza uma pesquisa de similaridade semântica.\n",
    "\n",
    "    Args:\n",
    "        query (str): A string de consulta.\n",
    "        indexed_chunks (list[dict]): A lista de dicionários de chunks com embeddings.\n",
    "        model: O modelo usado para gerar embeddings.\n",
    "\n",
    "    Returns:\n",
    "        list[dict]: Uma lista de dicionários de chunks, ordenados por similaridade\n",
    "                    (maior primeiro), incluindo a pontuação de similaridade.\n",
    "    \"\"\"\n",
    "    # 1. Gerar o embedding da consulta\n",
    "    query_embedding = model.encode([query])[0]\n",
    "    #print(f\"\\nEmbedding da Consulta ('{query}'): {query_embedding}\")\n",
    "\n",
    "    results = []\n",
    "    # 2. Calcular similaridade para cada chunk\n",
    "    for item in indexed_chunks:\n",
    "        chunk_text = item['chunk']\n",
    "        chunk_embedding = item['embedding']\n",
    "        \n",
    "        # Certifique-se de que o embedding do chunk também é um array numpy\n",
    "        # (se o seu modelo já retorna numpy arrays, isso pode ser redundante)\n",
    "        if not isinstance(chunk_embedding, np.ndarray):\n",
    "             chunk_embedding = np.array(chunk_embedding)\n",
    "\n",
    "        similarity = calculate_cosine_similarity(query_embedding, chunk_embedding)\n",
    "        \n",
    "        results.append({\n",
    "            'chunk': chunk_text,\n",
    "            'similarity': similarity,\n",
    "            'embedding': chunk_embedding # Opcional, para debug\n",
    "        })\n",
    "    \n",
    "    # 3. Ordenar os resultados pela similaridade (decrescente)\n",
    "    results.sort(key=lambda x: x['similarity'], reverse=True)\n",
    "    \n",
    "    return results[:20]"
   ]
  },
  {
   "cell_type": "code",
   "execution_count": 16,
   "id": "ead0e0e9",
   "metadata": {},
   "outputs": [],
   "source": [
    "# --- Inicializa o cliente Gemini API ---\n",
    "from src.classe_gemini import GeminiApiClient\n",
    "# Certifique-se de que a variável de ambiente 'GOOGLE_API_KEY' está definida com sua chave de API\n",
    "try:\n",
    "    api_key = os.environ.get(\"GOOGLE_API_KEY\")\n",
    "    if not api_key:\n",
    "        raise ValueError(\"A variável de ambiente 'GOOGLE_API_KEY' não está definida.\")\n",
    "    \n",
    "    gemini_client = GeminiApiClient(api_key=api_key)\n",
    "except ValueError as e:\n",
    "    print(f\"Erro de configuração da API: {e}\")\n",
    "    exit() # Encerra o programa se a chave da API não estiver configurada"
   ]
  },
  {
   "cell_type": "code",
   "execution_count": 17,
   "id": "f3585888",
   "metadata": {},
   "outputs": [],
   "source": [
    "qs = [\n",
    "    'What is the official language of Veridia?',\n",
    "    'Which mountain range forms the northern border of Veridia?',\n",
    "    'What is the currency of Veridia called?',\n",
    "    \"Which historical event is commemorated on Veridia's Independence Day?\",\n",
    "    'What is the largest city in Veridia by population?',\n",
    "    'Which body of water lies to the east of Veridia?'\n",
    "]\n",
    "\n",
    "for query in qs:\n",
    "    #query = \"Who is the current Grand Chancellor of Veridia?\"\n",
    "    search_results = semantic_search(query, chunks_emb, model)\n",
    "\n",
    "    #print(f\"\\n********** \\nResultados da pesquisa para: '{query}'\")\n",
    "    \n",
    "    for result in search_results[:6]:\n",
    "        # --- Chamada da API ---\n",
    "        model_name = 'gemini-1.5-pro' # Ou 'gemini-1.5-pro' se preferir um modelo mais potente\n",
    "\n",
    "        chunk_description = \"1st Day of Frostfall 1855 - Arrival in the Capital of Veridia\\n\\n!\\n\\nToday marks my arrival in the capital city of Veridia, a place teeming with vibrant cultural heritage and an unyielding commitment to progress. Under Queen Isolde's famed patronage, the arts flourished here. Walking through the grand avenues, I was captivated by the array of sculptures and paintings, bearing testament to her legacy. My first stop was the regal Assembly House, where the Assembly of Voices, Veridia's main legislative body, convenes. The debate inside, I was told, revolved around initiatives to fulfill Veridia's ambitious goal of using 80% renewable energy by 2050. This pervasive focus on sustainability is palpable, infusing the city's very lifeblood.\\n\\nAs evening crept in, I joined locals indulging in Zelphar stew, a traditional Veridian dish that warms the soul as much as it pleases the palate. Each spoonful was a blend of flavors, rich and comforting after my long journey.\\n\\n####\"\n",
    "\n",
    "        prompt = f\"\"\"\n",
    "            \n",
    "            You are answering a question from a fantasy world in a travel log journey of Doctor Voss, a woman visiting the capital of Veridia.\n",
    "            Here is the context to help you answer: {chunk_description}.\n",
    "            \n",
    "            Describe **only** the image. Bring **only the description**. Be concise - 300 characters max.\n",
    "            \n",
    "            \"\"\"\n",
    "            \n",
    "        prompt_parts = [\n",
    "            {\"text\": f\"{prompt}\"}\n",
    "        ]\n",
    "        #print(f\"  Similaridade: {result['similarity']:.4f} - ########### Chunk \\n\\n'{result['chunk']}'\\n\")\n",
    "        "
   ]
  },
  {
   "cell_type": "code",
   "execution_count": 18,
   "id": "30ba4d17",
   "metadata": {},
   "outputs": [
    {
     "name": "stdout",
     "output_type": "stream",
     "text": [
      "Loading TransformerRanker model mixedbread-ai/mxbai-rerank-large-v1 (this message can be suppressed by setting verbose=0)\n",
      "No device set\n",
      "Using device cpu\n",
      "No dtype set\n",
      "Using dtype torch.float32\n",
      "Loaded model mixedbread-ai/mxbai-rerank-large-v1\n",
      "Using device cpu.\n",
      "Using dtype torch.float32.\n"
     ]
    }
   ],
   "source": [
    "from rerankers import Reranker\n",
    "ranker = Reranker(\n",
    "  model_name='mixedbread-ai/mxbai-rerank-large-v1',\n",
    "  model_type='cross-encoder'\n",
    ")"
   ]
  },
  {
   "cell_type": "code",
   "execution_count": 56,
   "id": "d895b1ad",
   "metadata": {},
   "outputs": [
    {
     "name": "stdout",
     "output_type": "stream",
     "text": [
      "Query: What is the official language of Veridia?\n",
      "\n",
      "Gemini: Veridian\n",
      "\n",
      "---------------------------------\n",
      "Query: Which mountain range forms the northern border of Veridia?\n",
      "\n",
      "Gemini: NTD\n",
      "\n",
      "---------------------------------\n",
      "Query: What is the currency of Veridia called?\n",
      "\n",
      "Gemini: Veridian Crown\n",
      "\n",
      "---------------------------------\n",
      "Query: Which historical event is commemorated on Veridia's Independence Day?\n",
      "\n",
      "Gemini: The establishment of Veridia's constitution in 1783.\n",
      "\n",
      "---------------------------------\n",
      "Query: What is the largest city in Veridia by population?\n",
      "\n",
      "Gemini: Dolverin\n",
      "\n",
      "---------------------------------\n",
      "Query: Which body of water lies to the east of Veridia?\n",
      "\n",
      "Gemini: NTD\n",
      "\n",
      "---------------------------------\n"
     ]
    }
   ],
   "source": [
    "qs = [\n",
    "    'What is the official language of Veridia?',\n",
    "    'Which mountain range forms the northern border of Veridia?',\n",
    "    'What is the currency of Veridia called?',\n",
    "    \"Which historical event is commemorated on Veridia's Independence Day?\",\n",
    "    'What is the largest city in Veridia by population?',\n",
    "    'Which body of water lies to the east of Veridia?'\n",
    "]\n",
    "reranked = []\n",
    "for query in qs:\n",
    "    \n",
    "    #query = \"Who is the current Grand Chancellor of Veridia?\"\n",
    "    search_results = semantic_search(query, chunks_emb, model)\n",
    "    txt_results = []\n",
    "    \n",
    "    for chunk in search_results:\n",
    "        txt_results.append(chunk['chunk'])\n",
    "        \n",
    "    sorted_rows = ranker.rank(\n",
    "        query=query,\n",
    "        docs=txt_results[:10]\n",
    "        )\n",
    "    #print(f\"\\n********** \\nResultados da pesquisa para: '{query}'\")\n",
    "    \n",
    "    for i, doc in enumerate(sorted_rows.top_k(3)):\n",
    "        reranked.append(doc.text)\n",
    "    # --- Chamada da API ---\n",
    "    \n",
    "    model_name = 'gemini-1.5-pro' # Ou 'gemini-1.5-pro' se preferir um modelo mais potente\n",
    "\n",
    "    chunk_description = \"1st Day of Frostfall 1855 - Arrival in the Capital of Veridia\\n\\n!\\n\\nToday marks my arrival in the capital city of Veridia, a place teeming with vibrant cultural heritage and an unyielding commitment to progress. Under Queen Isolde's famed patronage, the arts flourished here. Walking through the grand avenues, I was captivated by the array of sculptures and paintings, bearing testament to her legacy. My first stop was the regal Assembly House, where the Assembly of Voices, Veridia's main legislative body, convenes. The debate inside, I was told, revolved around initiatives to fulfill Veridia's ambitious goal of using 80% renewable energy by 2050. This pervasive focus on sustainability is palpable, infusing the city's very lifeblood.\\n\\nAs evening crept in, I joined locals indulging in Zelphar stew, a traditional Veridian dish that warms the soul as much as it pleases the palate. Each spoonful was a blend of flavors, rich and comforting after my long journey.\\n\\n####\"\n",
    "\n",
    "    prompt = f\"\"\"\n",
    "        \n",
    "        You are answering a question from a fantasy world in a travel log journey of Doctor Voss, a woman visiting the capital of Veridia.\n",
    "        Question: {query}\n",
    "        Here is the context to help you answer: {reranked}.\n",
    "        \n",
    "        Bring the answer **only**. Example: 'The Veridian's Skys were blue most days.'\n",
    "        If you don't know the answer, respond: 'NTD' - meaning nothing to disclosure.\n",
    "        \"\"\"\n",
    "        \n",
    "    prompt_parts = [\n",
    "        {\"text\": f\"{prompt}\"}\n",
    "    ]\n",
    "    # Chama o método da classe GeminiApiClient\n",
    "    response_data = gemini_client.generate_multimodal_content(model_name, prompt_parts)\n",
    "\n",
    "    # Extrai o texto da resposta usando o método da classe\n",
    "    generated_text = gemini_client.extract_text_from_response(response_data)\n",
    "\n",
    "    if generated_text:\n",
    "        print(f\"Query: {query}\")\n",
    "        print(f\"\\nGemini: {generated_text}\")\n",
    "        print(\"---------------------------------\")\n",
    "    else:\n",
    "        print(\"\\nNão foi possível extrair texto da resposta do Gemini.\")\n",
    "    "
   ]
  }
 ],
 "metadata": {
  "kernelspec": {
   "display_name": ".venv",
   "language": "python",
   "name": "python3"
  },
  "language_info": {
   "codemirror_mode": {
    "name": "ipython",
    "version": 3
   },
   "file_extension": ".py",
   "mimetype": "text/x-python",
   "name": "python",
   "nbconvert_exporter": "python",
   "pygments_lexer": "ipython3",
   "version": "3.11.12"
  }
 },
 "nbformat": 4,
 "nbformat_minor": 5
}

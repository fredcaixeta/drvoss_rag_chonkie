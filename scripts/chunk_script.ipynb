{
 "cells": [
  {
   "cell_type": "code",
   "execution_count": 1,
   "id": "dae1e1bf",
   "metadata": {},
   "outputs": [],
   "source": [
    "import os\n",
    "from typing import List, Dict, Tuple\n",
    "\n",
    "import regex as re"
   ]
  },
  {
   "cell_type": "code",
   "execution_count": 2,
   "id": "254dfb8d",
   "metadata": {},
   "outputs": [],
   "source": [
    "def load_txt(file_path: str) -> str:\n",
    "    \"\"\"Carrega o conteúdo do arquivo de texto\"\"\"\n",
    "    with open(file_path, 'r', encoding='utf-8') as f:\n",
    "        return f.read()\n",
    "\n",
    "def chunk_diary_by_day_and_paragraph(diary_text: str) -> list[str]:\n",
    "    chunks = []\n",
    "    current_day_content = \"\"\n",
    "    date_pattern = r\"(\\d{1,2})(?:st|nd|rd|th)? Day of ([A-Za-z]+) (18\\d{2}) - ([A-Za-z\\s]+)\"\n",
    "    \n",
    "    for line in diary_text.splitlines():\n",
    "        if re.match(date_pattern, line):\n",
    "            #print(\"new day found\")\n",
    "            # Encontrou um novo dia\n",
    "            if current_day_content:\n",
    "                # Divida o conteúdo do dia anterior por parágrafos (linhas não vazias)\n",
    "                paragraphs = [p.strip() for p in current_day_content.strip().split('\\n\\n') if p.strip()]\n",
    "                chunks.extend(paragraphs)\n",
    "            current_day_content = line + \"\\n\"  # Comece o conteúdo do novo dia\n",
    "        else:\n",
    "            current_day_content += line + \"\\n\"\n",
    "            \n",
    "    return chunks"
   ]
  },
  {
   "cell_type": "code",
   "execution_count": 3,
   "id": "ee311c75",
   "metadata": {},
   "outputs": [],
   "source": [
    "text = load_txt(r'C:\\Users\\fuedj\\Documents\\Code\\RAG_Dr_Voss_v2\\drvossv2\\data\\dr_voss_txt.txt')\n",
    "\n",
    "chunks = chunk_diary_by_day_and_paragraph(text)"
   ]
  },
  {
   "cell_type": "code",
   "execution_count": 4,
   "id": "d8bedd0b",
   "metadata": {},
   "outputs": [
    {
     "data": {
      "text/plain": [
       "133"
      ]
     },
     "execution_count": 4,
     "metadata": {},
     "output_type": "execute_result"
    }
   ],
   "source": [
    "len(chunks)"
   ]
  },
  {
   "cell_type": "code",
   "execution_count": 32,
   "id": "088fefa0",
   "metadata": {},
   "outputs": [],
   "source": [
    "# First import the chunker you want from Chonkie\n",
    "from chonkie import TokenChunker\n",
    "\n",
    "# Initialize the chunker\n",
    "chunker = TokenChunker()\n",
    "\n",
    "# Chunk some text\n",
    "chunks = chunker(text)\n",
    "\n",
    "# # Access chunks\n",
    "# for chunk in chunks:\n",
    "#     print(f\"Chunk: {chunk.text}\")\n",
    "#     print(f\"Tokens: {chunk.token_count}\")"
   ]
  },
  {
   "cell_type": "code",
   "execution_count": 33,
   "id": "875f2d5b",
   "metadata": {},
   "outputs": [
    {
     "data": {
      "text/plain": [
       "98"
      ]
     },
     "execution_count": 33,
     "metadata": {},
     "output_type": "execute_result"
    }
   ],
   "source": [
    "len(chunks)"
   ]
  },
  {
   "cell_type": "code",
   "execution_count": 34,
   "id": "df095a69",
   "metadata": {},
   "outputs": [
    {
     "data": {
      "text/plain": [
       "\"1st Day of Frostfall 1855 - Arrival in the Capital of Veridia\\nToday  marks  my  arrival  in  the  capital  city  of  Veridia,  a  place  teeming  with  vibrant  cultural\\nheritage and an unyielding commitment to progress. Under Queen Isolde's famed patronage, the\\narts  flourished  here.  Walking  through  the  grand  avenues,  I  was  captivated  by  the  array  of\\nsculptures and paintings, bearing testament to her legacy. My first stop was the regal Assembly\\nHouse,  where  the  Assembly  of  Voices,  Veridia's  main  legislative  body,  convenes.  The  debate\\ninside,  I  was  told,  revolved  around  initiatives  to  fulfill  Veridia’s  ambitious  goal  of  using  80%\\nrenewable energy by 2050. This pervasive focus on sustainability is palpable, infusing the city’s\\nvery lifeblood.\\nAs  evening  crept  in,  I  joined  locals  indulging  in  Zelphar  stew,  a  traditional  Veridian  dish  that\\nwarms the soul as much as it pleases the palate. Each spoonful was a blend of flavors, rich and\\ncomforting after my long journey.\\n8th Day of Frostfall 1855 - Exploring the Takron Valley\\nI've ventured into the famed Takron Valley today, laden with a palpable sense of discovery. Here\\nlies the secret hoard of the rare Bluefire Opal, a gemstone that glimmers like the dawn breaking\\nover the mountains. Within the valley, miners worked tirelessly, whispering of its unique beauty\\nand unparalleled worth. \\nIn  the  evening,  I  was  fortunate  enough  to  witness  the  excitement  of  local  traditions.  News\\nreached us of Eldoria's celebrated javelin throwing contest—an iconic event during their autumn\\nfestival.  Though  I  couldn't  be  there  in  person  to  observe  it,  tales  of  the  athletes'  skill  and  the\\ncrowd's enthusiasm echo through the room as the storyteller captivates us by the fireside.\\nAs  I  retire  for  the  night\""
      ]
     },
     "execution_count": 34,
     "metadata": {},
     "output_type": "execute_result"
    }
   ],
   "source": [
    "chunks[0].text"
   ]
  },
  {
   "cell_type": "code",
   "execution_count": 35,
   "id": "0f2956e1",
   "metadata": {},
   "outputs": [
    {
     "data": {
      "text/plain": [
       "\",  the  distant  lilt  of  Eldoria's  Celestium  music  hums  gently  in  my  mind,\\nreminding me of the cultural tapestry that links these worlds despite their physical distances.\\n10th Day of Frostfall 1855 - The Valley's Whispers\\nThis morning, I awoke to a pale mist stretching its fingers gently across Takron Valley. The air\\nhung heavy with moisture, a tonic far different from the musty peat scents I recall from Eldoria's\\nfestival gatherings. As the morning wore on, I wandered further into the valley, where the whisper\\nof pickaxes against stone formed an oddly rhythmic concert with the birds' morning calls.\\nThe miners here, with their weathered hands and faces etched by years of labor, are surprisingly\\nwarm-hearted. One elder, a grizzled man with a twinkle in his eye named Bram, shared tales of\\nthe  valley's  haunting  echoes  at  twilight.  They  say  that  if  one  stands  still  beneath  the  looming\\nCragstone Arch at dusk, you might hear the valley sing the ancient melodies of the land. Many\\nclaim it's the spirits of past miners offering both protection and warnings to those who disturb\\ntheir eternal resting grounds. Though I fancy myself more practical, these stories stir something\\nwithin me—a yearning or perhaps a belief in the unseen threads that weave through our world.\\nLast night, over sour-brewed draughts of local ale, we huddled close and spoke of Elderwood's\\njavelin  contest  once  more.  A  newcomer  brought  fresh  tales  of  Olwen  the  Fleet,  this  year's\\nchampion,  whose  prowess  in  the  competition  was  said  to  rival  that  of  the  legendary  Heron  of\\nEldoria. As thrilling as those stories were, I found myself captivated by the music after, played on\\nsimple  hand-carved  flutes.  It's  a  bittersweet  reminder  of  the  joyous  festival  tunes  of  home—a\\ncomfort, even as I wander further from the familiar.\\n12th Day of Frostfall 1855 - Beneath Takron's Veil\\nI remain in the Takron Valley, drawn perhaps too deeply into its som\""
      ]
     },
     "execution_count": 35,
     "metadata": {},
     "output_type": "execute_result"
    }
   ],
   "source": [
    "chunks[1].text"
   ]
  }
 ],
 "metadata": {
  "kernelspec": {
   "display_name": ".venv",
   "language": "python",
   "name": "python3"
  },
  "language_info": {
   "codemirror_mode": {
    "name": "ipython",
    "version": 3
   },
   "file_extension": ".py",
   "mimetype": "text/x-python",
   "name": "python",
   "nbconvert_exporter": "python",
   "pygments_lexer": "ipython3",
   "version": "3.11.12"
  }
 },
 "nbformat": 4,
 "nbformat_minor": 5
}

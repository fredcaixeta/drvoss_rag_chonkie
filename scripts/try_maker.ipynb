{
 "cells": [
  {
   "cell_type": "markdown",
   "id": "4aef08cc",
   "metadata": {},
   "source": [
    "## Usando maker para formar MD e extrair imagens"
   ]
  },
  {
   "cell_type": "code",
   "execution_count": null,
   "id": "4fcfd36a",
   "metadata": {},
   "outputs": [],
   "source": [
    "from marker.converters.pdf import PdfConverter\n",
    "from marker.models import create_model_dict\n",
    "from marker.output import text_from_rendered\n",
    "\n",
    "converter = PdfConverter(\n",
    "    artifact_dict=create_model_dict(),\n",
    ")\n",
    "rendered = converter(r\"C:\\Users\\fuedj\\Documents\\Code\\RAG_Dr_Voss_v2\\drvossv2\\data\\dr_voss_diary.pdf\")\n",
    "text, _, images = text_from_rendered(rendered) # _ = 'md'"
   ]
  },
  {
   "cell_type": "code",
   "execution_count": null,
   "id": "57f35e40",
   "metadata": {},
   "outputs": [],
   "source": [
    "text"
   ]
  },
  {
   "cell_type": "code",
   "execution_count": null,
   "id": "b713869d",
   "metadata": {},
   "outputs": [],
   "source": [
    "full_output_path = r\"C:\\Users\\fuedj\\Documents\\Code\\RAG_Dr_Voss_v2\\drvossv2\\data\\dr_voss_md.md\"\n",
    "try:\n",
    "    with open(full_output_path, \"w\", encoding=\"utf-8\") as f:\n",
    "        f.write(text)\n",
    "    print(f\"Texto salvo com sucesso em: {full_output_path}\")\n",
    "except IOError as e:\n",
    "    print(f\"Erro ao salvar o arquivo Markdown: {e}\")"
   ]
  },
  {
   "cell_type": "code",
   "execution_count": null,
   "id": "e3f366fd",
   "metadata": {},
   "outputs": [],
   "source": [
    "import sqlite3\n",
    "\n",
    "def setup_database(db_name=\"imagens.db\"):\n",
    "    conn = sqlite3.connect(db_name)\n",
    "    cursor = conn.cursor()\n",
    "    cursor.execute('''\n",
    "        CREATE TABLE IF NOT EXISTS imagens (\n",
    "            id INTEGER PRIMARY KEY AUTOINCREMENT,\n",
    "            nome_arquivo TEXT NOT NULL,\n",
    "            dados_imagem BLOB NOT NULL\n",
    "        )\n",
    "    ''')\n",
    "    conn.commit()\n",
    "    conn.close()\n",
    "\n",
    "setup_database() # Cria o banco de dados e a tabela"
   ]
  },
  {
   "cell_type": "code",
   "execution_count": null,
   "id": "6800c796",
   "metadata": {},
   "outputs": [],
   "source": [
    "from PIL import Image\n",
    "import io\n",
    "\n",
    "def image_to_bytes(image_pil: Image.Image, format: str = \"JPEG\") -> bytes:\n",
    "    \"\"\"Converte um objeto PIL.Image.Image para bytes.\"\"\"\n",
    "    byte_arr = io.BytesIO()\n",
    "    image_pil.save(byte_arr, format=format)\n",
    "    return byte_arr.getvalue()\n",
    "\n",
    "# Exemplo de uso:\n",
    "# Digamos que 'minha_imagem_pil' é um dos valores do seu dicionário 'images'\n",
    "# imagem_em_bytes = image_to_bytes(minha_imagem_pil, format=\"JPEG\")\n",
    "\n",
    "def store_images_in_db(images_dict: dict, db_name=\"imagens.db\"):\n",
    "    conn = sqlite3.connect(db_name)\n",
    "    cursor = conn.cursor()\n",
    "\n",
    "    for filename, image_pil in images_dict.items():\n",
    "        # Converter a imagem para bytes (pode escolher PNG ou JPEG)\n",
    "        image_bytes = image_to_bytes(image_pil, format=\"JPEG\")\n",
    "\n",
    "        try:\n",
    "            cursor.execute(\n",
    "                \"INSERT INTO imagens (nome_arquivo, dados_imagem) VALUES (?, ?)\",\n",
    "                (filename, image_bytes)\n",
    "            )\n",
    "            print(f\"Imagem '{filename}' inserida com sucesso.\")\n",
    "        except sqlite3.Error as e:\n",
    "            print(f\"Erro ao inserir a imagem '{filename}': {e}\")\n",
    "\n",
    "    conn.commit()\n",
    "    conn.close()\n",
    "\n",
    "# --- Como você usaria com seu dicionário 'images' ---\n",
    "# Supondo que 'images' é o dicionário resultante do seu código Marker:\n",
    "# images = {'_page_0_Picture_1.jpeg': <PIL.Image.Image object>, ...}\n",
    "store_images_in_db(images)"
   ]
  },
  {
   "cell_type": "code",
   "execution_count": null,
   "id": "d0b7354d",
   "metadata": {},
   "outputs": [],
   "source": [
    "images"
   ]
  }
 ],
 "metadata": {
  "kernelspec": {
   "display_name": ".venv",
   "language": "python",
   "name": "python3"
  },
  "language_info": {
   "codemirror_mode": {
    "name": "ipython",
    "version": 3
   },
   "file_extension": ".py",
   "mimetype": "text/x-python",
   "name": "python",
   "nbconvert_exporter": "python",
   "pygments_lexer": "ipython3",
   "version": "3.11.12"
  }
 },
 "nbformat": 4,
 "nbformat_minor": 5
}
